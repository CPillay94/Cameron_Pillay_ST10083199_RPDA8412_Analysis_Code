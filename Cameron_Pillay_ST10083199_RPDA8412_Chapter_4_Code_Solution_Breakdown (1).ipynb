{
  "nbformat": 4,
  "nbformat_minor": 0,
  "metadata": {
    "colab": {
      "provenance": []
    },
    "kernelspec": {
      "name": "python3",
      "display_name": "Python 3"
    },
    "language_info": {
      "name": "python"
    }
  },
  "cells": [
    {
      "cell_type": "markdown",
      "source": [
        "### **<ins>Code to prepare visualization tools and analysis methods to correlate the primary question with the appropriate hypothesis method:**"
      ],
      "metadata": {
        "id": "HQj_QKy8AKHG"
      }
    },
    {
      "cell_type": "code",
      "execution_count": 2,
      "metadata": {
        "colab": {
          "base_uri": "https://localhost:8080/",
          "height": 383
        },
        "id": "rqlk6AWB4rM1",
        "outputId": "5dd44e86-e25b-4fd7-9fb1-186c196394ea"
      },
      "outputs": [
        {
          "output_type": "execute_result",
          "data": {
            "text/plain": [
              "  gender NationalITy PlaceofBirth       StageID GradeID SectionID Topic  \\\n",
              "0      M          KW       KuwaIT    lowerlevel    G-04         A    IT   \n",
              "1      M          KW       KuwaIT    lowerlevel    G-04         A    IT   \n",
              "2      M          KW       KuwaIT    lowerlevel    G-04         A    IT   \n",
              "3      M          KW       KuwaIT    lowerlevel    G-04         A    IT   \n",
              "4      M          KW       KuwaIT    lowerlevel    G-04         A    IT   \n",
              "5      F          KW       KuwaIT    lowerlevel    G-04         A    IT   \n",
              "6      M          KW       KuwaIT  MiddleSchool    G-07         A  Math   \n",
              "7      M          KW       KuwaIT  MiddleSchool    G-07         A  Math   \n",
              "8      F          KW       KuwaIT  MiddleSchool    G-07         A  Math   \n",
              "9      F          KW       KuwaIT  MiddleSchool    G-07         B    IT   \n",
              "\n",
              "  Semester Relation  raisedhands  VisITedResources  AnnouncementsView  \\\n",
              "0        F   Father           15                16                  2   \n",
              "1        F   Father           20                20                  3   \n",
              "2        F   Father           10                 7                  0   \n",
              "3        F   Father           30                25                  5   \n",
              "4        F   Father           40                50                 12   \n",
              "5        F   Father           42                30                 13   \n",
              "6        F   Father           35                12                  0   \n",
              "7        F   Father           50                10                 15   \n",
              "8        F   Father           12                21                 16   \n",
              "9        F   Father           70                80                 25   \n",
              "\n",
              "   Discussion ParentAnsweringSurvey ParentschoolSatisfaction  \\\n",
              "0          20                   Yes                     Good   \n",
              "1          25                   Yes                     Good   \n",
              "2          30                    No                      Bad   \n",
              "3          35                    No                      Bad   \n",
              "4          50                    No                      Bad   \n",
              "5          70                   Yes                      Bad   \n",
              "6          17                    No                      Bad   \n",
              "7          22                   Yes                     Good   \n",
              "8          50                   Yes                     Good   \n",
              "9          70                   Yes                     Good   \n",
              "\n",
              "  StudentAbsenceDays Class  \n",
              "0            Under-7     M  \n",
              "1            Under-7     M  \n",
              "2            Above-7     L  \n",
              "3            Above-7     L  \n",
              "4            Above-7     M  \n",
              "5            Above-7     M  \n",
              "6            Above-7     L  \n",
              "7            Under-7     M  \n",
              "8            Under-7     M  \n",
              "9            Under-7     M  "
            ],
            "text/html": [
              "\n",
              "  <div id=\"df-ef74c140-ae9c-43f6-aa82-329f043c1373\" class=\"colab-df-container\">\n",
              "    <div>\n",
              "<style scoped>\n",
              "    .dataframe tbody tr th:only-of-type {\n",
              "        vertical-align: middle;\n",
              "    }\n",
              "\n",
              "    .dataframe tbody tr th {\n",
              "        vertical-align: top;\n",
              "    }\n",
              "\n",
              "    .dataframe thead th {\n",
              "        text-align: right;\n",
              "    }\n",
              "</style>\n",
              "<table border=\"1\" class=\"dataframe\">\n",
              "  <thead>\n",
              "    <tr style=\"text-align: right;\">\n",
              "      <th></th>\n",
              "      <th>gender</th>\n",
              "      <th>NationalITy</th>\n",
              "      <th>PlaceofBirth</th>\n",
              "      <th>StageID</th>\n",
              "      <th>GradeID</th>\n",
              "      <th>SectionID</th>\n",
              "      <th>Topic</th>\n",
              "      <th>Semester</th>\n",
              "      <th>Relation</th>\n",
              "      <th>raisedhands</th>\n",
              "      <th>VisITedResources</th>\n",
              "      <th>AnnouncementsView</th>\n",
              "      <th>Discussion</th>\n",
              "      <th>ParentAnsweringSurvey</th>\n",
              "      <th>ParentschoolSatisfaction</th>\n",
              "      <th>StudentAbsenceDays</th>\n",
              "      <th>Class</th>\n",
              "    </tr>\n",
              "  </thead>\n",
              "  <tbody>\n",
              "    <tr>\n",
              "      <th>0</th>\n",
              "      <td>M</td>\n",
              "      <td>KW</td>\n",
              "      <td>KuwaIT</td>\n",
              "      <td>lowerlevel</td>\n",
              "      <td>G-04</td>\n",
              "      <td>A</td>\n",
              "      <td>IT</td>\n",
              "      <td>F</td>\n",
              "      <td>Father</td>\n",
              "      <td>15</td>\n",
              "      <td>16</td>\n",
              "      <td>2</td>\n",
              "      <td>20</td>\n",
              "      <td>Yes</td>\n",
              "      <td>Good</td>\n",
              "      <td>Under-7</td>\n",
              "      <td>M</td>\n",
              "    </tr>\n",
              "    <tr>\n",
              "      <th>1</th>\n",
              "      <td>M</td>\n",
              "      <td>KW</td>\n",
              "      <td>KuwaIT</td>\n",
              "      <td>lowerlevel</td>\n",
              "      <td>G-04</td>\n",
              "      <td>A</td>\n",
              "      <td>IT</td>\n",
              "      <td>F</td>\n",
              "      <td>Father</td>\n",
              "      <td>20</td>\n",
              "      <td>20</td>\n",
              "      <td>3</td>\n",
              "      <td>25</td>\n",
              "      <td>Yes</td>\n",
              "      <td>Good</td>\n",
              "      <td>Under-7</td>\n",
              "      <td>M</td>\n",
              "    </tr>\n",
              "    <tr>\n",
              "      <th>2</th>\n",
              "      <td>M</td>\n",
              "      <td>KW</td>\n",
              "      <td>KuwaIT</td>\n",
              "      <td>lowerlevel</td>\n",
              "      <td>G-04</td>\n",
              "      <td>A</td>\n",
              "      <td>IT</td>\n",
              "      <td>F</td>\n",
              "      <td>Father</td>\n",
              "      <td>10</td>\n",
              "      <td>7</td>\n",
              "      <td>0</td>\n",
              "      <td>30</td>\n",
              "      <td>No</td>\n",
              "      <td>Bad</td>\n",
              "      <td>Above-7</td>\n",
              "      <td>L</td>\n",
              "    </tr>\n",
              "    <tr>\n",
              "      <th>3</th>\n",
              "      <td>M</td>\n",
              "      <td>KW</td>\n",
              "      <td>KuwaIT</td>\n",
              "      <td>lowerlevel</td>\n",
              "      <td>G-04</td>\n",
              "      <td>A</td>\n",
              "      <td>IT</td>\n",
              "      <td>F</td>\n",
              "      <td>Father</td>\n",
              "      <td>30</td>\n",
              "      <td>25</td>\n",
              "      <td>5</td>\n",
              "      <td>35</td>\n",
              "      <td>No</td>\n",
              "      <td>Bad</td>\n",
              "      <td>Above-7</td>\n",
              "      <td>L</td>\n",
              "    </tr>\n",
              "    <tr>\n",
              "      <th>4</th>\n",
              "      <td>M</td>\n",
              "      <td>KW</td>\n",
              "      <td>KuwaIT</td>\n",
              "      <td>lowerlevel</td>\n",
              "      <td>G-04</td>\n",
              "      <td>A</td>\n",
              "      <td>IT</td>\n",
              "      <td>F</td>\n",
              "      <td>Father</td>\n",
              "      <td>40</td>\n",
              "      <td>50</td>\n",
              "      <td>12</td>\n",
              "      <td>50</td>\n",
              "      <td>No</td>\n",
              "      <td>Bad</td>\n",
              "      <td>Above-7</td>\n",
              "      <td>M</td>\n",
              "    </tr>\n",
              "    <tr>\n",
              "      <th>5</th>\n",
              "      <td>F</td>\n",
              "      <td>KW</td>\n",
              "      <td>KuwaIT</td>\n",
              "      <td>lowerlevel</td>\n",
              "      <td>G-04</td>\n",
              "      <td>A</td>\n",
              "      <td>IT</td>\n",
              "      <td>F</td>\n",
              "      <td>Father</td>\n",
              "      <td>42</td>\n",
              "      <td>30</td>\n",
              "      <td>13</td>\n",
              "      <td>70</td>\n",
              "      <td>Yes</td>\n",
              "      <td>Bad</td>\n",
              "      <td>Above-7</td>\n",
              "      <td>M</td>\n",
              "    </tr>\n",
              "    <tr>\n",
              "      <th>6</th>\n",
              "      <td>M</td>\n",
              "      <td>KW</td>\n",
              "      <td>KuwaIT</td>\n",
              "      <td>MiddleSchool</td>\n",
              "      <td>G-07</td>\n",
              "      <td>A</td>\n",
              "      <td>Math</td>\n",
              "      <td>F</td>\n",
              "      <td>Father</td>\n",
              "      <td>35</td>\n",
              "      <td>12</td>\n",
              "      <td>0</td>\n",
              "      <td>17</td>\n",
              "      <td>No</td>\n",
              "      <td>Bad</td>\n",
              "      <td>Above-7</td>\n",
              "      <td>L</td>\n",
              "    </tr>\n",
              "    <tr>\n",
              "      <th>7</th>\n",
              "      <td>M</td>\n",
              "      <td>KW</td>\n",
              "      <td>KuwaIT</td>\n",
              "      <td>MiddleSchool</td>\n",
              "      <td>G-07</td>\n",
              "      <td>A</td>\n",
              "      <td>Math</td>\n",
              "      <td>F</td>\n",
              "      <td>Father</td>\n",
              "      <td>50</td>\n",
              "      <td>10</td>\n",
              "      <td>15</td>\n",
              "      <td>22</td>\n",
              "      <td>Yes</td>\n",
              "      <td>Good</td>\n",
              "      <td>Under-7</td>\n",
              "      <td>M</td>\n",
              "    </tr>\n",
              "    <tr>\n",
              "      <th>8</th>\n",
              "      <td>F</td>\n",
              "      <td>KW</td>\n",
              "      <td>KuwaIT</td>\n",
              "      <td>MiddleSchool</td>\n",
              "      <td>G-07</td>\n",
              "      <td>A</td>\n",
              "      <td>Math</td>\n",
              "      <td>F</td>\n",
              "      <td>Father</td>\n",
              "      <td>12</td>\n",
              "      <td>21</td>\n",
              "      <td>16</td>\n",
              "      <td>50</td>\n",
              "      <td>Yes</td>\n",
              "      <td>Good</td>\n",
              "      <td>Under-7</td>\n",
              "      <td>M</td>\n",
              "    </tr>\n",
              "    <tr>\n",
              "      <th>9</th>\n",
              "      <td>F</td>\n",
              "      <td>KW</td>\n",
              "      <td>KuwaIT</td>\n",
              "      <td>MiddleSchool</td>\n",
              "      <td>G-07</td>\n",
              "      <td>B</td>\n",
              "      <td>IT</td>\n",
              "      <td>F</td>\n",
              "      <td>Father</td>\n",
              "      <td>70</td>\n",
              "      <td>80</td>\n",
              "      <td>25</td>\n",
              "      <td>70</td>\n",
              "      <td>Yes</td>\n",
              "      <td>Good</td>\n",
              "      <td>Under-7</td>\n",
              "      <td>M</td>\n",
              "    </tr>\n",
              "  </tbody>\n",
              "</table>\n",
              "</div>\n",
              "    <div class=\"colab-df-buttons\">\n",
              "\n",
              "  <div class=\"colab-df-container\">\n",
              "    <button class=\"colab-df-convert\" onclick=\"convertToInteractive('df-ef74c140-ae9c-43f6-aa82-329f043c1373')\"\n",
              "            title=\"Convert this dataframe to an interactive table.\"\n",
              "            style=\"display:none;\">\n",
              "\n",
              "  <svg xmlns=\"http://www.w3.org/2000/svg\" height=\"24px\" viewBox=\"0 -960 960 960\">\n",
              "    <path d=\"M120-120v-720h720v720H120Zm60-500h600v-160H180v160Zm220 220h160v-160H400v160Zm0 220h160v-160H400v160ZM180-400h160v-160H180v160Zm440 0h160v-160H620v160ZM180-180h160v-160H180v160Zm440 0h160v-160H620v160Z\"/>\n",
              "  </svg>\n",
              "    </button>\n",
              "\n",
              "  <style>\n",
              "    .colab-df-container {\n",
              "      display:flex;\n",
              "      gap: 12px;\n",
              "    }\n",
              "\n",
              "    .colab-df-convert {\n",
              "      background-color: #E8F0FE;\n",
              "      border: none;\n",
              "      border-radius: 50%;\n",
              "      cursor: pointer;\n",
              "      display: none;\n",
              "      fill: #1967D2;\n",
              "      height: 32px;\n",
              "      padding: 0 0 0 0;\n",
              "      width: 32px;\n",
              "    }\n",
              "\n",
              "    .colab-df-convert:hover {\n",
              "      background-color: #E2EBFA;\n",
              "      box-shadow: 0px 1px 2px rgba(60, 64, 67, 0.3), 0px 1px 3px 1px rgba(60, 64, 67, 0.15);\n",
              "      fill: #174EA6;\n",
              "    }\n",
              "\n",
              "    .colab-df-buttons div {\n",
              "      margin-bottom: 4px;\n",
              "    }\n",
              "\n",
              "    [theme=dark] .colab-df-convert {\n",
              "      background-color: #3B4455;\n",
              "      fill: #D2E3FC;\n",
              "    }\n",
              "\n",
              "    [theme=dark] .colab-df-convert:hover {\n",
              "      background-color: #434B5C;\n",
              "      box-shadow: 0px 1px 3px 1px rgba(0, 0, 0, 0.15);\n",
              "      filter: drop-shadow(0px 1px 2px rgba(0, 0, 0, 0.3));\n",
              "      fill: #FFFFFF;\n",
              "    }\n",
              "  </style>\n",
              "\n",
              "    <script>\n",
              "      const buttonEl =\n",
              "        document.querySelector('#df-ef74c140-ae9c-43f6-aa82-329f043c1373 button.colab-df-convert');\n",
              "      buttonEl.style.display =\n",
              "        google.colab.kernel.accessAllowed ? 'block' : 'none';\n",
              "\n",
              "      async function convertToInteractive(key) {\n",
              "        const element = document.querySelector('#df-ef74c140-ae9c-43f6-aa82-329f043c1373');\n",
              "        const dataTable =\n",
              "          await google.colab.kernel.invokeFunction('convertToInteractive',\n",
              "                                                    [key], {});\n",
              "        if (!dataTable) return;\n",
              "\n",
              "        const docLinkHtml = 'Like what you see? Visit the ' +\n",
              "          '<a target=\"_blank\" href=https://colab.research.google.com/notebooks/data_table.ipynb>data table notebook</a>'\n",
              "          + ' to learn more about interactive tables.';\n",
              "        element.innerHTML = '';\n",
              "        dataTable['output_type'] = 'display_data';\n",
              "        await google.colab.output.renderOutput(dataTable, element);\n",
              "        const docLink = document.createElement('div');\n",
              "        docLink.innerHTML = docLinkHtml;\n",
              "        element.appendChild(docLink);\n",
              "      }\n",
              "    </script>\n",
              "  </div>\n",
              "\n",
              "\n",
              "<div id=\"df-fe855296-8179-4be2-bf6f-8be7a42d6b74\">\n",
              "  <button class=\"colab-df-quickchart\" onclick=\"quickchart('df-fe855296-8179-4be2-bf6f-8be7a42d6b74')\"\n",
              "            title=\"Suggest charts\"\n",
              "            style=\"display:none;\">\n",
              "\n",
              "<svg xmlns=\"http://www.w3.org/2000/svg\" height=\"24px\"viewBox=\"0 0 24 24\"\n",
              "     width=\"24px\">\n",
              "    <g>\n",
              "        <path d=\"M19 3H5c-1.1 0-2 .9-2 2v14c0 1.1.9 2 2 2h14c1.1 0 2-.9 2-2V5c0-1.1-.9-2-2-2zM9 17H7v-7h2v7zm4 0h-2V7h2v10zm4 0h-2v-4h2v4z\"/>\n",
              "    </g>\n",
              "</svg>\n",
              "  </button>\n",
              "\n",
              "<style>\n",
              "  .colab-df-quickchart {\n",
              "      --bg-color: #E8F0FE;\n",
              "      --fill-color: #1967D2;\n",
              "      --hover-bg-color: #E2EBFA;\n",
              "      --hover-fill-color: #174EA6;\n",
              "      --disabled-fill-color: #AAA;\n",
              "      --disabled-bg-color: #DDD;\n",
              "  }\n",
              "\n",
              "  [theme=dark] .colab-df-quickchart {\n",
              "      --bg-color: #3B4455;\n",
              "      --fill-color: #D2E3FC;\n",
              "      --hover-bg-color: #434B5C;\n",
              "      --hover-fill-color: #FFFFFF;\n",
              "      --disabled-bg-color: #3B4455;\n",
              "      --disabled-fill-color: #666;\n",
              "  }\n",
              "\n",
              "  .colab-df-quickchart {\n",
              "    background-color: var(--bg-color);\n",
              "    border: none;\n",
              "    border-radius: 50%;\n",
              "    cursor: pointer;\n",
              "    display: none;\n",
              "    fill: var(--fill-color);\n",
              "    height: 32px;\n",
              "    padding: 0;\n",
              "    width: 32px;\n",
              "  }\n",
              "\n",
              "  .colab-df-quickchart:hover {\n",
              "    background-color: var(--hover-bg-color);\n",
              "    box-shadow: 0 1px 2px rgba(60, 64, 67, 0.3), 0 1px 3px 1px rgba(60, 64, 67, 0.15);\n",
              "    fill: var(--button-hover-fill-color);\n",
              "  }\n",
              "\n",
              "  .colab-df-quickchart-complete:disabled,\n",
              "  .colab-df-quickchart-complete:disabled:hover {\n",
              "    background-color: var(--disabled-bg-color);\n",
              "    fill: var(--disabled-fill-color);\n",
              "    box-shadow: none;\n",
              "  }\n",
              "\n",
              "  .colab-df-spinner {\n",
              "    border: 2px solid var(--fill-color);\n",
              "    border-color: transparent;\n",
              "    border-bottom-color: var(--fill-color);\n",
              "    animation:\n",
              "      spin 1s steps(1) infinite;\n",
              "  }\n",
              "\n",
              "  @keyframes spin {\n",
              "    0% {\n",
              "      border-color: transparent;\n",
              "      border-bottom-color: var(--fill-color);\n",
              "      border-left-color: var(--fill-color);\n",
              "    }\n",
              "    20% {\n",
              "      border-color: transparent;\n",
              "      border-left-color: var(--fill-color);\n",
              "      border-top-color: var(--fill-color);\n",
              "    }\n",
              "    30% {\n",
              "      border-color: transparent;\n",
              "      border-left-color: var(--fill-color);\n",
              "      border-top-color: var(--fill-color);\n",
              "      border-right-color: var(--fill-color);\n",
              "    }\n",
              "    40% {\n",
              "      border-color: transparent;\n",
              "      border-right-color: var(--fill-color);\n",
              "      border-top-color: var(--fill-color);\n",
              "    }\n",
              "    60% {\n",
              "      border-color: transparent;\n",
              "      border-right-color: var(--fill-color);\n",
              "    }\n",
              "    80% {\n",
              "      border-color: transparent;\n",
              "      border-right-color: var(--fill-color);\n",
              "      border-bottom-color: var(--fill-color);\n",
              "    }\n",
              "    90% {\n",
              "      border-color: transparent;\n",
              "      border-bottom-color: var(--fill-color);\n",
              "    }\n",
              "  }\n",
              "</style>\n",
              "\n",
              "  <script>\n",
              "    async function quickchart(key) {\n",
              "      const quickchartButtonEl =\n",
              "        document.querySelector('#' + key + ' button');\n",
              "      quickchartButtonEl.disabled = true;  // To prevent multiple clicks.\n",
              "      quickchartButtonEl.classList.add('colab-df-spinner');\n",
              "      try {\n",
              "        const charts = await google.colab.kernel.invokeFunction(\n",
              "            'suggestCharts', [key], {});\n",
              "      } catch (error) {\n",
              "        console.error('Error during call to suggestCharts:', error);\n",
              "      }\n",
              "      quickchartButtonEl.classList.remove('colab-df-spinner');\n",
              "      quickchartButtonEl.classList.add('colab-df-quickchart-complete');\n",
              "    }\n",
              "    (() => {\n",
              "      let quickchartButtonEl =\n",
              "        document.querySelector('#df-fe855296-8179-4be2-bf6f-8be7a42d6b74 button');\n",
              "      quickchartButtonEl.style.display =\n",
              "        google.colab.kernel.accessAllowed ? 'block' : 'none';\n",
              "    })();\n",
              "  </script>\n",
              "</div>\n",
              "\n",
              "    </div>\n",
              "  </div>\n"
            ],
            "application/vnd.google.colaboratory.intrinsic+json": {
              "type": "dataframe",
              "variable_name": "data",
              "summary": "{\n  \"name\": \"data\",\n  \"rows\": 480,\n  \"fields\": [\n    {\n      \"column\": \"gender\",\n      \"properties\": {\n        \"dtype\": \"category\",\n        \"num_unique_values\": 2,\n        \"samples\": [\n          \"F\",\n          \"M\"\n        ],\n        \"semantic_type\": \"\",\n        \"description\": \"\"\n      }\n    },\n    {\n      \"column\": \"NationalITy\",\n      \"properties\": {\n        \"dtype\": \"category\",\n        \"num_unique_values\": 14,\n        \"samples\": [\n          \"Morocco\",\n          \"Palestine\"\n        ],\n        \"semantic_type\": \"\",\n        \"description\": \"\"\n      }\n    },\n    {\n      \"column\": \"PlaceofBirth\",\n      \"properties\": {\n        \"dtype\": \"category\",\n        \"num_unique_values\": 14,\n        \"samples\": [\n          \"Morocco\",\n          \"Iraq\"\n        ],\n        \"semantic_type\": \"\",\n        \"description\": \"\"\n      }\n    },\n    {\n      \"column\": \"StageID\",\n      \"properties\": {\n        \"dtype\": \"category\",\n        \"num_unique_values\": 3,\n        \"samples\": [\n          \"lowerlevel\",\n          \"MiddleSchool\"\n        ],\n        \"semantic_type\": \"\",\n        \"description\": \"\"\n      }\n    },\n    {\n      \"column\": \"GradeID\",\n      \"properties\": {\n        \"dtype\": \"category\",\n        \"num_unique_values\": 10,\n        \"samples\": [\n          \"G-10\",\n          \"G-07\"\n        ],\n        \"semantic_type\": \"\",\n        \"description\": \"\"\n      }\n    },\n    {\n      \"column\": \"SectionID\",\n      \"properties\": {\n        \"dtype\": \"category\",\n        \"num_unique_values\": 3,\n        \"samples\": [\n          \"A\",\n          \"B\"\n        ],\n        \"semantic_type\": \"\",\n        \"description\": \"\"\n      }\n    },\n    {\n      \"column\": \"Topic\",\n      \"properties\": {\n        \"dtype\": \"category\",\n        \"num_unique_values\": 12,\n        \"samples\": [\n          \"Chemistry\",\n          \"Biology\"\n        ],\n        \"semantic_type\": \"\",\n        \"description\": \"\"\n      }\n    },\n    {\n      \"column\": \"Semester\",\n      \"properties\": {\n        \"dtype\": \"category\",\n        \"num_unique_values\": 2,\n        \"samples\": [\n          \"S\",\n          \"F\"\n        ],\n        \"semantic_type\": \"\",\n        \"description\": \"\"\n      }\n    },\n    {\n      \"column\": \"Relation\",\n      \"properties\": {\n        \"dtype\": \"category\",\n        \"num_unique_values\": 2,\n        \"samples\": [\n          \"Mum\",\n          \"Father\"\n        ],\n        \"semantic_type\": \"\",\n        \"description\": \"\"\n      }\n    },\n    {\n      \"column\": \"raisedhands\",\n      \"properties\": {\n        \"dtype\": \"number\",\n        \"std\": 30,\n        \"min\": 0,\n        \"max\": 100,\n        \"num_unique_values\": 82,\n        \"samples\": [\n          49,\n          15\n        ],\n        \"semantic_type\": \"\",\n        \"description\": \"\"\n      }\n    },\n    {\n      \"column\": \"VisITedResources\",\n      \"properties\": {\n        \"dtype\": \"number\",\n        \"std\": 33,\n        \"min\": 0,\n        \"max\": 99,\n        \"num_unique_values\": 89,\n        \"samples\": [\n          42,\n          82\n        ],\n        \"semantic_type\": \"\",\n        \"description\": \"\"\n      }\n    },\n    {\n      \"column\": \"AnnouncementsView\",\n      \"properties\": {\n        \"dtype\": \"number\",\n        \"std\": 26,\n        \"min\": 0,\n        \"max\": 98,\n        \"num_unique_values\": 88,\n        \"samples\": [\n          31,\n          2\n        ],\n        \"semantic_type\": \"\",\n        \"description\": \"\"\n      }\n    },\n    {\n      \"column\": \"Discussion\",\n      \"properties\": {\n        \"dtype\": \"number\",\n        \"std\": 27,\n        \"min\": 1,\n        \"max\": 99,\n        \"num_unique_values\": 90,\n        \"samples\": [\n          89,\n          88\n        ],\n        \"semantic_type\": \"\",\n        \"description\": \"\"\n      }\n    },\n    {\n      \"column\": \"ParentAnsweringSurvey\",\n      \"properties\": {\n        \"dtype\": \"category\",\n        \"num_unique_values\": 2,\n        \"samples\": [\n          \"No\",\n          \"Yes\"\n        ],\n        \"semantic_type\": \"\",\n        \"description\": \"\"\n      }\n    },\n    {\n      \"column\": \"ParentschoolSatisfaction\",\n      \"properties\": {\n        \"dtype\": \"category\",\n        \"num_unique_values\": 2,\n        \"samples\": [\n          \"Bad\",\n          \"Good\"\n        ],\n        \"semantic_type\": \"\",\n        \"description\": \"\"\n      }\n    },\n    {\n      \"column\": \"StudentAbsenceDays\",\n      \"properties\": {\n        \"dtype\": \"category\",\n        \"num_unique_values\": 2,\n        \"samples\": [\n          \"Above-7\",\n          \"Under-7\"\n        ],\n        \"semantic_type\": \"\",\n        \"description\": \"\"\n      }\n    },\n    {\n      \"column\": \"Class\",\n      \"properties\": {\n        \"dtype\": \"category\",\n        \"num_unique_values\": 3,\n        \"samples\": [\n          \"M\",\n          \"L\"\n        ],\n        \"semantic_type\": \"\",\n        \"description\": \"\"\n      }\n    }\n  ]\n}"
            }
          },
          "metadata": {},
          "execution_count": 2
        }
      ],
      "source": [
        "import pandas as pd\n",
        "import seaborn as sns\n",
        "import matplotlib.pyplot as plt\n",
        "from scipy import stats\n",
        "from sklearn.model_selection import train_test_split\n",
        "from sklearn.linear_model import LinearRegression\n",
        "from sklearn.metrics import mean_squared_error, r2_score\n",
        "\n",
        "# Load the dataset\n",
        "data = pd.read_csv(\"Students' Academic Performance Dataset.csv\")\n",
        "\n",
        "data.head(10)\n"
      ]
    },
    {
      "cell_type": "markdown",
      "source": [
        "### **Conversion of Categorical Features and Summary Statistics**\n",
        "\n",
        "This code snippet demonstrates the conversion of the categorical feature 'Class' into numerical values for analysis, followed by the computation of summary statistics for LMS-related features and academic performance. The summary statistics provide insights into the distribution, central tendency, and variability of the engagement metrics ('raisedhands', 'VisITedResources', 'AnnouncementsView', 'Discussion') and the academic performance ('Class') of the students in the dataset (GeeksforGeeks, 2023)."
      ],
      "metadata": {
        "id": "nz-G1WHedttD"
      }
    },
    {
      "cell_type": "code",
      "source": [
        "# Stack overflow. 2015. Convert categorical data in pandas dataframe [Source Code]. 14 August 2015.\n",
        "# https://stackoverflow.com/questions/32011359/convert-categorical-data-in-pandas-dataframe (4 November 2024)\n",
        "\n",
        "# Convert categorical features to numerical (e.g., Class to numerical values: L -> 1, M -> 2, H -> 3)\n",
        "data['Class'] = data['Class'].map({'L': 1, 'M': 2, 'H': 3})\n",
        "\n",
        "# 1. Summary statistics of LMS-related features and academic performance (Class)\n",
        "lms_features = ['raisedhands', 'VisITedResources', 'AnnouncementsView', 'Discussion']\n",
        "print(data[lms_features + ['Class']].describe())"
      ],
      "metadata": {
        "colab": {
          "base_uri": "https://localhost:8080/"
        },
        "id": "X2ulbLlW5jSi",
        "outputId": "0a810e93-7930-42f9-92eb-863bb460b81d"
      },
      "execution_count": 3,
      "outputs": [
        {
          "output_type": "stream",
          "name": "stdout",
          "text": [
            "       raisedhands  VisITedResources  AnnouncementsView  Discussion  \\\n",
            "count   480.000000        480.000000         480.000000  480.000000   \n",
            "mean     46.775000         54.797917          37.918750   43.283333   \n",
            "std      30.779223         33.080007          26.611244   27.637735   \n",
            "min       0.000000          0.000000           0.000000    1.000000   \n",
            "25%      15.750000         20.000000          14.000000   20.000000   \n",
            "50%      50.000000         65.000000          33.000000   39.000000   \n",
            "75%      75.000000         84.000000          58.000000   70.000000   \n",
            "max     100.000000         99.000000          98.000000   99.000000   \n",
            "\n",
            "            Class  \n",
            "count  480.000000  \n",
            "mean     2.031250  \n",
            "std      0.748738  \n",
            "min      1.000000  \n",
            "25%      1.000000  \n",
            "50%      2.000000  \n",
            "75%      3.000000  \n",
            "max      3.000000  \n"
          ]
        }
      ]
    },
    {
      "cell_type": "markdown",
      "source": [
        "### **Visualization of LMS Engagement Metrics vs. Academic Performance**\n",
        "\n",
        "This code snippet generates box plots to visually compare LMS engagement metrics with academic performance (represented by the 'Class' variable). Each subplot illustrates the distribution of a specific LMS feature ('raisedhands', 'VisITedResources', 'AnnouncementsView', 'Discussion') across different performance categories (Low, Medium, High). The visualizations help identify patterns, outliers, and the relationship between LMS engagement and academic success, providing a clearer understanding of how different levels of engagement relate to student performance outcomes (Chhikara, 2021)."
      ],
      "metadata": {
        "id": "ZHPDbw2hfL1g"
      }
    },
    {
      "cell_type": "code",
      "source": [
        "# O'Reilly. Chapter 4. Visualization with Matplotlib [Source Code].\n",
        "# https://www.oreilly.com/library/view/python-data-science/9781491912126/ch04.html (4 November 2024)\n",
        "\n",
        "# 2. Visualization of LMS engagement metrics vs academic performance\n",
        "plt.figure(figsize=(16, 12))\n",
        "for i, feature in enumerate(lms_features, 1):\n",
        "    plt.subplot(2, 2, i)\n",
        "    sns.boxplot(x='Class', y=feature, data=data)\n",
        "    plt.title(f'{feature} vs Academic Performance (Class)')\n",
        "plt.tight_layout()\n",
        "plt.show()"
      ],
      "metadata": {
        "colab": {
          "base_uri": "https://localhost:8080/",
          "height": 946
        },
        "id": "13btnfbK6c5A",
        "outputId": "5256ced4-4a25-4b2e-a7f6-b191edb30349"
      },
      "execution_count": null,
      "outputs": [
        {
          "output_type": "display_data",
          "data": {
            "text/plain": [
              "<Figure size 1600x1200 with 4 Axes>"
            ],
            "image/png": "[encoded data removed]"
          },
          "metadata": {}
        }
      ]
    },
    {
      "cell_type": "markdown",
      "source": [
        "### **Correlation Analysis of LMS Features and Academic Performance**\n",
        "\n",
        "This code snippet computes the correlation matrix for the LMS engagement metrics and academic performance (Class). The correlation matrix quantifies the strength and direction of the relationships between the different LMS features and the academic performance categories. By displaying these correlations, this analysis helps to identify which LMS features have the strongest associations with student performance, thus informing educators and researchers about the potential impact of specific engagement activities on academic outcomes (Sololearn, N.D.)."
      ],
      "metadata": {
        "id": "uqV8VW06gjhe"
      }
    },
    {
      "cell_type": "code",
      "source": [
        "# Stack Overflow. 2015. Plot correlation matrix using pandas [Source Code]. 4 March 2015.\n",
        "# https://stackoverflow.com/questions/29432629/plot-correlation-matrix-using-pandas (4 November 2024)\n",
        "\n",
        "# 3. Correlation analysis\n",
        "correlation_matrix = data[lms_features + ['Class']].corr()\n",
        "print(\"Correlation Matrix:\\n\", correlation_matrix)\n"
      ],
      "metadata": {
        "colab": {
          "base_uri": "https://localhost:8080/"
        },
        "id": "rmiJ_6MD7mnj",
        "outputId": "242a9762-829a-4f2e-fce2-3990d5abd049"
      },
      "execution_count": null,
      "outputs": [
        {
          "output_type": "stream",
          "name": "stdout",
          "text": [
            "Correlation Matrix:\n",
            "                    raisedhands  VisITedResources  AnnouncementsView  \\\n",
            "raisedhands           1.000000          0.691572           0.643918   \n",
            "VisITedResources      0.691572          1.000000           0.594500   \n",
            "AnnouncementsView     0.643918          0.594500           1.000000   \n",
            "Discussion            0.339386          0.243292           0.417290   \n",
            "Class                 0.646298          0.677094           0.527370   \n",
            "\n",
            "                   Discussion     Class  \n",
            "raisedhands          0.339386  0.646298  \n",
            "VisITedResources     0.243292  0.677094  \n",
            "AnnouncementsView    0.417290  0.527370  \n",
            "Discussion           1.000000  0.308183  \n",
            "Class                0.308183  1.000000  \n"
          ]
        }
      ]
    },
    {
      "cell_type": "markdown",
      "source": [
        "### **Descriptive Statistics of the Dataset**\n",
        "This code snippet generates and displays the descriptive statistics for the entire dataset, providing key summary measures such as the count, mean, standard deviation, minimum, maximum, and quartiles for each numerical feature. Descriptive statistics offer a foundational understanding of the data distribution and variability, allowing researchers to assess the general characteristics of the dataset and identify potential patterns or anomalies in the LMS engagement metrics and academic performance variables (Kent State University, N.D.)."
      ],
      "metadata": {
        "id": "BQQTUcNOiD5H"
      }
    },
    {
      "cell_type": "code",
      "source": [
        "# Hannes Datta. 2021. Data exploration in R (dPrep) [Source Code]. 10 September 2023.\n",
        "# https://dprep.hannesdatta.com/docs/modules/week2/tutorial/intro-to-r(4 November 2024)\n",
        "\n",
        "# Descriptive statistics for the dataset\n",
        "descriptive_stats = data.describe()\n",
        "print(\"Descriptive Statistics:\\n\", descriptive_stats)"
      ],
      "metadata": {
        "colab": {
          "base_uri": "https://localhost:8080/"
        },
        "id": "x1BwgCXh8smh",
        "outputId": "043ed46e-22d1-4699-817b-5f853a8c3e0d"
      },
      "execution_count": 4,
      "outputs": [
        {
          "output_type": "stream",
          "name": "stdout",
          "text": [
            "Descriptive Statistics:\n",
            "        raisedhands  VisITedResources  AnnouncementsView  Discussion  \\\n",
            "count   480.000000        480.000000         480.000000  480.000000   \n",
            "mean     46.775000         54.797917          37.918750   43.283333   \n",
            "std      30.779223         33.080007          26.611244   27.637735   \n",
            "min       0.000000          0.000000           0.000000    1.000000   \n",
            "25%      15.750000         20.000000          14.000000   20.000000   \n",
            "50%      50.000000         65.000000          33.000000   39.000000   \n",
            "75%      75.000000         84.000000          58.000000   70.000000   \n",
            "max     100.000000         99.000000          98.000000   99.000000   \n",
            "\n",
            "            Class  \n",
            "count  480.000000  \n",
            "mean     2.031250  \n",
            "std      0.748738  \n",
            "min      1.000000  \n",
            "25%      1.000000  \n",
            "50%      2.000000  \n",
            "75%      3.000000  \n",
            "max      3.000000  \n"
          ]
        }
      ]
    },
    {
      "cell_type": "markdown",
      "source": [
        "### **Visualization of Correlation Matrix**\n",
        "This code creates a heatmap to visualize the correlation matrix between LMS engagement metrics (such as raised hands, visited resources, announcements viewed, and discussions) and academic performance. By displaying correlation values in a color-coded format, this heatmap helps to quickly identify the strength and direction of relationships between each LMS feature and the academic performance variable. Stronger correlations appear in darker colors, allowing researchers to pinpoint which LMS features might have a more pronounced impact on student performance. This visualization aids in interpreting how LMS usage influences academic outcomes (GeeksforGeeks, 2024)."
      ],
      "metadata": {
        "id": "04PhU9Uci1c-"
      }
    },
    {
      "cell_type": "code",
      "source": [
        "# QuantHub. 2015. How to Read a Correlation Heatmap? [Source Code].\n",
        "# https://www.quanthub.com/how-to-read-a-correlation-heatmap/ (4 November 2024)\n",
        "\n",
        "# Visualize the correlation matrix\n",
        "plt.figure(figsize=(8, 6))\n",
        "sns.heatmap(correlation_matrix, annot=True, cmap='coolwarm', fmt='.2f')\n",
        "plt.title('Correlation between LMS Usage and Academic Performance')\n",
        "plt.show()\n"
      ],
      "metadata": {
        "colab": {
          "base_uri": "https://localhost:8080/",
          "height": 676
        },
        "id": "1jy_LVTp8uEx",
        "outputId": "5e9b6bd7-9728-45a7-cea5-a67bf9d2ba82"
      },
      "execution_count": null,
      "outputs": [
        {
          "output_type": "display_data",
          "data": {
            "text/plain": [
              "<Figure size 800x600 with 2 Axes>"
            ],
            "image/png": "[encoded data removed]"
          },
          "metadata": {}
        }
      ]
    },
    {
      "cell_type": "markdown",
      "source": [
        "### **Installing Required Library for Factor Analysis**\n",
        "\n",
        "This code installs the factor_analyzer library, which provides tools to perform factor analysis in Python. Factor analysis is a statistical method often used in research to identify underlying relationships between measured variables. By grouping related variables together, factor analysis can reveal latent structures within data, which is particularly useful in understanding patterns among LMS engagement metrics. This technique can help identify common factors (e.g., \"engagement\" or \"resource utilization\") that impact academic performance (FactorAnalyzer, N.D)."
      ],
      "metadata": {
        "id": "yFG0LNBOj5QS"
      }
    },
    {
      "cell_type": "code",
      "source": [
        "# PyPi. factor-analyzer 0.5.1 [Source Code].\n",
        "# https://pypi.org/project/factor-analyzer/(4 November 2024)\n",
        "\n",
        "!pip install factor_analyzer"
      ],
      "metadata": {
        "colab": {
          "base_uri": "https://localhost:8080/"
        },
        "id": "mQytd74QPu7Q",
        "outputId": "7dcb2c7b-5e78-4554-c204-30d17230e163"
      },
      "execution_count": 6,
      "outputs": [
        {
          "output_type": "stream",
          "name": "stdout",
          "text": [
            "Collecting factor_analyzer\n",
            "  Downloading factor_analyzer-0.5.1.tar.gz (42 kB)\n",
            "\u001b[?25l     \u001b[90m━━━━━━━━━━━━━━━━━━━━━━━━━━━━━━━━━━━━━━━━\u001b[0m \u001b[32m0.0/42.8 kB\u001b[0m \u001b[31m?\u001b[0m eta \u001b[36m-:--:--\u001b[0m\r\u001b[2K     \u001b[90m━━━━━━━━━━━━━━━━━━━━━━━━━━━━━━━━━━━━━━━━\u001b[0m \u001b[32m42.8/42.8 kB\u001b[0m \u001b[31m2.7 MB/s\u001b[0m eta \u001b[36m0:00:00\u001b[0m\n",
            "\u001b[?25h  Installing build dependencies ... \u001b[?25l\u001b[?25hdone\n",
            "  Getting requirements to build wheel ... \u001b[?25l\u001b[?25hdone\n",
            "  Preparing metadata (pyproject.toml) ... \u001b[?25l\u001b[?25hdone\n",
            "Requirement already satisfied: pandas in /usr/local/lib/python3.10/dist-packages (from factor_analyzer) (2.2.2)\n",
            "Requirement already satisfied: scipy in /usr/local/lib/python3.10/dist-packages (from factor_analyzer) (1.13.1)\n",
            "Requirement already satisfied: numpy in /usr/local/lib/python3.10/dist-packages (from factor_analyzer) (1.26.4)\n",
            "Requirement already satisfied: scikit-learn in /usr/local/lib/python3.10/dist-packages (from factor_analyzer) (1.5.2)\n",
            "Requirement already satisfied: python-dateutil>=2.8.2 in /usr/local/lib/python3.10/dist-packages (from pandas->factor_analyzer) (2.8.2)\n",
            "Requirement already satisfied: pytz>=2020.1 in /usr/local/lib/python3.10/dist-packages (from pandas->factor_analyzer) (2024.2)\n",
            "Requirement already satisfied: tzdata>=2022.7 in /usr/local/lib/python3.10/dist-packages (from pandas->factor_analyzer) (2024.2)\n",
            "Requirement already satisfied: joblib>=1.2.0 in /usr/local/lib/python3.10/dist-packages (from scikit-learn->factor_analyzer) (1.4.2)\n",
            "Requirement already satisfied: threadpoolctl>=3.1.0 in /usr/local/lib/python3.10/dist-packages (from scikit-learn->factor_analyzer) (3.5.0)\n",
            "Requirement already satisfied: six>=1.5 in /usr/local/lib/python3.10/dist-packages (from python-dateutil>=2.8.2->pandas->factor_analyzer) (1.16.0)\n",
            "Building wheels for collected packages: factor_analyzer\n",
            "  Building wheel for factor_analyzer (pyproject.toml) ... \u001b[?25l\u001b[?25hdone\n",
            "  Created wheel for factor_analyzer: filename=factor_analyzer-0.5.1-py2.py3-none-any.whl size=42566 sha256=8471fcc22f19013d8ac4a4da05b5b1414e52afbabffc03828be9a1ff7e4228f7\n",
            "  Stored in directory: /root/.cache/pip/wheels/24/59/82/6493618e30ed1cb7a013b9e1b0c9e17de80b04dfcef4ba8a4d\n",
            "Successfully built factor_analyzer\n",
            "Installing collected packages: factor_analyzer\n",
            "Successfully installed factor_analyzer-0.5.1\n"
          ]
        }
      ]
    },
    {
      "cell_type": "markdown",
      "source": [
        "### **Loading the Student Academic Performance Dataset for Factor Analysis**\n",
        "\n",
        "In this code, we load the \"Students' Academic Performance Dataset\" using the pandas library. This dataset is the foundation for the analysis, containing LMS engagement metrics and academic performance indicators, which will allow us to explore relationships and identify underlying factors influencing academic success. Once loaded, this data can be prepared for further statistical analysis, including factor analysis, which helps determine latent factors (e.g., engagement patterns) among LMS usage features that may correlate with academic outcomes (Declan, N.D.)."
      ],
      "metadata": {
        "id": "MFffljnPkONl"
      }
    },
    {
      "cell_type": "code",
      "source": [
        "# Freie Universität Berlin. A simple example of Factor Analysis in Python [Source Code].\n",
        "# https://www.fu-berlin.de/ (4 November 2024)\n",
        "\n",
        "import pandas as pd\n",
        "import matplotlib.pyplot as plt\n",
        "from factor_analyzer import FactorAnalyzer\n",
        "\n",
        "# Load your dataset\n",
        "data = pd.read_csv(\"Students' Academic Performance Dataset.csv\")"
      ],
      "metadata": {
        "id": "J7nspwnUPqqT"
      },
      "execution_count": 8,
      "outputs": []
    },
    {
      "cell_type": "markdown",
      "source": [
        "### **Selecting LMS Engagement Metrics for Factor Analysis:**\n",
        "\n",
        "In this step, we isolate the key LMS engagement metrics—raised hands, visited resources, announcements view, and discussion—from the dataset. These variables are chosen specifically because they represent student interactions within the LMS platform. By focusing on these metrics, we aim to uncover patterns or latent factors that contribute to students' academic engagement and performance. This selection will allow the factor analysis to identify underlying relationships that might not be immediately apparent in individual features (Declan, N.D.)."
      ],
      "metadata": {
        "id": "Q2aYGPjIlg4I"
      }
    },
    {
      "cell_type": "code",
      "source": [
        "# Freie Universität Berlin. A simple example of Factor Analysis in Python [Source Code].\n",
        "# https://www.fu-berlin.de/ (4 November 2024)\n",
        "\n",
        "# Select the relevant LMS engagement metrics for factor analysis\n",
        "lms_metrics = data[['raisedhands',\t'VisITedResources',\t'AnnouncementsView',\t'Discussion']]"
      ],
      "metadata": {
        "id": "X9d6jLd-QP1U"
      },
      "execution_count": 9,
      "outputs": []
    },
    {
      "cell_type": "markdown",
      "source": [
        "### **Performing Factor Analysis on LMS Engagement Metrics**\n",
        "\n",
        "This code performs a factor analysis on the selected LMS engagement metrics to uncover latent variables that might explain the relationships among these metrics.\n",
        "\n",
        "1. **Missing Value Check and Handling:** The code first checks for any missing values in the LMS metrics data. If found, rows with missing values are dropped to ensure a complete dataset for analysis.\n",
        "\n",
        "2. **Factor Analysis Setup:** The FactorAnalyzer is initialized to extract three factors with a varimax rotation, which simplifies factor interpretation by maximizing the variance of squared loadings.\n",
        "\n",
        "3. **Eigenvalues Plot:** To determine the optimal number of factors, the code calculates eigenvalues for each potential factor. By plotting these values, we can use the Kaiser Criterion (where eigenvalues > 1) to decide the number of factors to retain.\n",
        "\n",
        "4. **Factor Loadings Extraction:** Finally, the code refits the factor analysis with the selected number of factors to obtain the factor loadings. The factor loadings indicate the correlation of each LMS metric with each factor, helping identify which metrics cluster together under shared underlying constructs.\n",
        "\n",
        "5. **Visualization of Loadings:** The factor loadings are organized in a DataFrame for clear presentation, showing the strength of each LMS metric's association with each identified factor.\n",
        "\n",
        "This analysis helps reveal underlying dimensions of LMS usage, such as engagement intensity or resource utilization, contributing to a deeper understanding of how these metrics might collectively impact academic performance."
      ],
      "metadata": {
        "id": "x-_jhexBnFi5"
      }
    },
    {
      "cell_type": "code",
      "source": [
        "# Freie Universität Berlin. A simple example of Factor Analysis in Python [Source Code].\n",
        "# https://www.fu-berlin.de/ (4 November 2024)\n",
        "\n",
        "# Check for missing values\n",
        "print(lms_metrics.isnull().sum())\n",
        "\n",
        "# If there are missing values, you might want to drop or fill them\n",
        "lms_metrics = lms_metrics.dropna()\n",
        "\n",
        "# Conduct the factor analysis\n",
        "fa = FactorAnalyzer(n_factors=3, rotation='varimax')  # Adjust n_factors based on your needs\n",
        "fa.fit(lms_metrics)\n",
        "\n",
        "# Get eigenvalues to determine the number of factors to retain\n",
        "eigenvalues, _ = fa.get_eigenvalues()\n",
        "\n",
        "# Plot the eigenvalues\n",
        "plt.figure(figsize=(8, 5))\n",
        "plt.plot(eigenvalues, marker='o')\n",
        "plt.title('Eigenvalues of Factors')\n",
        "plt.xlabel('Factor Number')\n",
        "plt.ylabel('Eigenvalue')\n",
        "plt.grid()\n",
        "plt.axhline(y=1, color='r', linestyle='--')  # Line for Kaiser Criterion\n",
        "plt.show()\n",
        "\n",
        "# Fit the factor analysis again to extract loadings\n",
        "fa = FactorAnalyzer(n_factors=3, rotation='varimax')\n",
        "fa.fit(lms_metrics)\n",
        "\n",
        "# Get the factor loadings\n",
        "loadings = fa.loadings_\n",
        "print(\"Factor Loadings:\\n\", loadings)\n",
        "\n",
        "# Create a DataFrame for easier visualization of factor loadings\n",
        "loadings_df = pd.DataFrame(loadings, index=lms_metrics.columns, columns=[f'Factor {i+1}' for i in range(loadings.shape[1])])\n",
        "print(\"Factor Loadings DataFrame:\\n\", loadings_df)"
      ],
      "metadata": {
        "colab": {
          "base_uri": "https://localhost:8080/",
          "height": 765
        },
        "id": "EHl7xYFKQbsS",
        "outputId": "9162d207-7c20-457a-c7be-ce24dcddad79"
      },
      "execution_count": 10,
      "outputs": [
        {
          "output_type": "stream",
          "name": "stdout",
          "text": [
            "raisedhands          0\n",
            "VisITedResources     0\n",
            "AnnouncementsView    0\n",
            "Discussion           0\n",
            "dtype: int64\n"
          ]
        },
        {
          "output_type": "display_data",
          "data": {
            "text/plain": [
              "<Figure size 800x500 with 1 Axes>"
            ],
            "image/png": "[encoded data removed]"
          },
          "metadata": {}
        },
        {
          "output_type": "stream",
          "name": "stdout",
          "text": [
            "Factor Loadings:\n",
            " [[ 0.77224511  0.39681884 -0.10641431]\n",
            " [ 0.79986001  0.21709003  0.11522727]\n",
            " [ 0.54858245  0.60953635  0.20295897]\n",
            " [ 0.15733526  0.54636671 -0.01011007]]\n",
            "Factor Loadings DataFrame:\n",
            "                    Factor 1  Factor 2  Factor 3\n",
            "raisedhands        0.772245  0.396819 -0.106414\n",
            "VisITedResources   0.799860  0.217090  0.115227\n",
            "AnnouncementsView  0.548582  0.609536  0.202959\n",
            "Discussion         0.157335  0.546367 -0.010110\n"
          ]
        }
      ]
    },
    {
      "cell_type": "markdown",
      "source": [
        "### <center>**Multiple Linear Regression Analysis of LMS Engagement Metrics on Academic Performance**</center>\n",
        "This code performs a multiple linear regression analysis to assess the relationship between various LMS engagement metrics and students' academic performance (Debroy, 2023).\n",
        "\n",
        "1. **Encoding the Target Variable:** The code first checks if the academic performance indicator (Class) is non-numeric. If so, it uses LabelEncoder to convert it into a numeric format.\n",
        "\n",
        "2. **Ensuring Numeric Data for Features:** Each LMS feature is checked for numeric type. If any feature is non-numeric, it’s converted to numeric values, with invalid entries coerced into NaN. This ensures that all features are properly formatted for regression.\n",
        "\n",
        "3. **Handling Missing Data:** After conversions, any rows with missing values in the LMS features or target variable (Class) are dropped.\n",
        "\n",
        "4. **Setting Up Variables for Regression:** The X matrix (independent variables) is created from the LMS features, while y (dependent variable) is set as the Class column. A constant term is added to X to include the intercept in the model.\n",
        "\n",
        "5. **Fitting the Model:** An Ordinary Least Squares (OLS) regression model is then fit using the LMS features as predictors for academic performance.\n",
        "\n",
        "6. **Displaying the Results:** The model.summary() function provides a detailed output, including coefficients, standard errors, and significance levels for each feature, as well as overall model fit statistics such as R-squared.\n",
        "\n",
        "This regression analysis offers insight into how each LMS engagement metric (e.g., raisedhands, VisITedResources) potentially influences academic performance, allowing for an assessment of the predictive power of these features in the context of the study."
      ],
      "metadata": {
        "id": "jVoWin_rnpPr"
      }
    },
    {
      "cell_type": "code",
      "source": [
        "# Stojiljković, M. Linear Regression in Python, Real Python [Source Code].\n",
        "# https://realpython.com/linear-regression-in-python/ (4 November 2024)\n",
        "\n",
        "!pip install statsmodels"
      ],
      "metadata": {
        "colab": {
          "base_uri": "https://localhost:8080/"
        },
        "id": "4ivHx46-e5UU",
        "outputId": "8ed39224-08b3-4f29-b1fe-1f78330f3685"
      },
      "execution_count": 15,
      "outputs": [
        {
          "output_type": "stream",
          "name": "stdout",
          "text": [
            "Requirement already satisfied: statsmodels in /usr/local/lib/python3.10/dist-packages (0.14.4)\n",
            "Requirement already satisfied: numpy<3,>=1.22.3 in /usr/local/lib/python3.10/dist-packages (from statsmodels) (1.26.4)\n",
            "Requirement already satisfied: scipy!=1.9.2,>=1.8 in /usr/local/lib/python3.10/dist-packages (from statsmodels) (1.13.1)\n",
            "Requirement already satisfied: pandas!=2.1.0,>=1.4 in /usr/local/lib/python3.10/dist-packages (from statsmodels) (2.2.2)\n",
            "Requirement already satisfied: patsy>=0.5.6 in /usr/local/lib/python3.10/dist-packages (from statsmodels) (0.5.6)\n",
            "Requirement already satisfied: packaging>=21.3 in /usr/local/lib/python3.10/dist-packages (from statsmodels) (24.1)\n",
            "Requirement already satisfied: python-dateutil>=2.8.2 in /usr/local/lib/python3.10/dist-packages (from pandas!=2.1.0,>=1.4->statsmodels) (2.8.2)\n",
            "Requirement already satisfied: pytz>=2020.1 in /usr/local/lib/python3.10/dist-packages (from pandas!=2.1.0,>=1.4->statsmodels) (2024.2)\n",
            "Requirement already satisfied: tzdata>=2022.7 in /usr/local/lib/python3.10/dist-packages (from pandas!=2.1.0,>=1.4->statsmodels) (2024.2)\n",
            "Requirement already satisfied: six in /usr/local/lib/python3.10/dist-packages (from patsy>=0.5.6->statsmodels) (1.16.0)\n"
          ]
        }
      ]
    },
    {
      "cell_type": "code",
      "source": [
        "# Stojiljković, M. Linear Regression in Python, Real Python [Source Code].\n",
        "# https://realpython.com/linear-regression-in-python/ (4 November 2024)\n",
        "\n",
        "import pandas as pd\n",
        "import numpy as np\n",
        "import statsmodels.api as sm\n",
        "from sklearn.preprocessing import LabelEncoder\n",
        "\n",
        "# Assuming data is already loaded\n",
        "# Encode 'Class' column if it's non-numeric\n",
        "if data['Class'].dtype == 'object':\n",
        "    le = LabelEncoder()\n",
        "    data['Class'] = le.fit_transform(data['Class'])\n",
        "\n",
        "# Define LMS feature columns\n",
        "lms_features = ['raisedhands', 'VisITedResources', 'AnnouncementsView', 'Discussion']\n",
        "\n",
        "# Check for non-numeric types in the LMS features\n",
        "for feature in lms_features:\n",
        "    if data[feature].dtype == 'object':\n",
        "        # Convert non-numeric features to numeric if necessary\n",
        "        data[feature] = pd.to_numeric(data[feature], errors='coerce')\n",
        "\n",
        "# Drop any rows with NaN values in case any conversions failed\n",
        "data = data.dropna(subset=lms_features + ['Class'])\n",
        "\n",
        "# Define X and y for regression\n",
        "X = data[lms_features]\n",
        "y = data['Class']\n",
        "\n",
        "# Add a constant to the model (for the intercept)\n",
        "X = sm.add_constant(X)\n",
        "\n",
        "# Fit the regression model\n",
        "model = sm.OLS(y, X).fit()\n",
        "\n",
        "# Print the regression results\n",
        "print(model.summary())"
      ],
      "metadata": {
        "colab": {
          "base_uri": "https://localhost:8080/"
        },
        "id": "qrRS8ibce_Wm",
        "outputId": "3a90c202-0bdc-49da-80d8-9a5fbb61db90"
      },
      "execution_count": 18,
      "outputs": [
        {
          "output_type": "stream",
          "name": "stdout",
          "text": [
            "                            OLS Regression Results                            \n",
            "==============================================================================\n",
            "Dep. Variable:                  Class   R-squared:                       0.056\n",
            "Model:                            OLS   Adj. R-squared:                  0.048\n",
            "Method:                 Least Squares   F-statistic:                     7.040\n",
            "Date:                Mon, 04 Nov 2024   Prob (F-statistic):           1.64e-05\n",
            "Time:                        14:04:55   Log-Likelihood:                -586.67\n",
            "No. Observations:                 480   AIC:                             1183.\n",
            "Df Residuals:                     475   BIC:                             1204.\n",
            "Df Model:                           4                                         \n",
            "Covariance Type:            nonrobust                                         \n",
            "=====================================================================================\n",
            "                        coef    std err          t      P>|t|      [0.025      0.975]\n",
            "-------------------------------------------------------------------------------------\n",
            "const                 1.4851      0.086     17.200      0.000       1.315       1.655\n",
            "raisedhands          -0.0061      0.002     -3.292      0.001      -0.010      -0.002\n",
            "VisITedResources     -0.0003      0.002     -0.179      0.858      -0.004       0.003\n",
            "AnnouncementsView     0.0010      0.002      0.476      0.634      -0.003       0.005\n",
            "Discussion           -0.0017      0.002     -1.131      0.259      -0.005       0.001\n",
            "==============================================================================\n",
            "Omnibus:                     3203.818   Durbin-Watson:                   1.725\n",
            "Prob(Omnibus):                  0.000   Jarque-Bera (JB):               50.589\n",
            "Skew:                           0.004   Prob(JB):                     1.03e-11\n",
            "Kurtosis:                       1.410   Cond. No.                         237.\n",
            "==============================================================================\n",
            "\n",
            "Notes:\n",
            "[1] Standard Errors assume that the covariance matrix of the errors is correctly specified.\n"
          ]
        }
      ]
    },
    {
      "cell_type": "markdown",
      "source": [
        "### **ANOVA Analysis for LMS Engagement Metrics Across Academic Performance Levels**\n",
        "\n",
        "This code conducts an ANOVA (Analysis of Variance) test to examine whether there are statistically significant differences in LMS engagement metrics among different levels of academic performance (low, medium, high) (GeeksforGeeks, 2024).\n",
        "\n",
        "1. **Data Grouping:** For each LMS engagement metric (e.g., raisedhands, VisITedResources, AnnouncementsView, Discussion), the data is grouped by academic performance levels (Class), assuming the categories represent low, medium, and high performers.\n",
        "\n",
        "2. **ANOVA Test Execution:** An ANOVA test is performed for each LMS metric across the three performance groups. The f_oneway function calculates the F-statistic and p-value for each metric, showing whether there is a statistically significant difference in engagement across performance levels.\n",
        "\n",
        "3. **Interpretation of Results:** If the p-value is below a typical significance threshold (e.g., 0.05), it suggests that there are significant differences in engagement for that LMS metric across performance groups. This helps to identify which LMS metrics may be most associated with academic performance.\n",
        "\n",
        "This analysis is useful for determining which aspects of LMS engagement differ significantly among student performance categories, providing insights for targeted interventions or feature enhancements."
      ],
      "metadata": {
        "id": "bW5Vh8kRoPqH"
      }
    },
    {
      "cell_type": "code",
      "source": [
        "# O'Reilly. 2015. Chapter 4. Visualization with Matplotlib [Source Code].\n",
        "# https://www.oreilly.com/library/view/python-data-science/9781491912126/ch04.html (4 November 2024)\n",
        "\n",
        "import pandas as pd\n",
        "import scipy.stats as stats\n",
        "\n",
        "# Load your data\n",
        "data = pd.read_csv(\"Students' Academic Performance Dataset.csv\")\n",
        "\n",
        "# Assuming 'Class' is categorized as low, medium, and high performers (e.g., 0, 1, 2)\n",
        "# Group by 'Class' and examine LMS engagement metrics such as attendance and contributions\n",
        "lms_metrics = ['raisedhands', 'VisITedResources', 'AnnouncementsView', 'Discussion']\n",
        "\n",
        "# Conduct ANOVA for each LMS metric\n",
        "for metric in lms_metrics:\n",
        "    groups = [data[data['Class'] == level][metric] for level in data['Class'].unique()]\n",
        "    f_stat, p_value = stats.f_oneway(*groups)\n",
        "    print(f\"ANOVA results for {metric}: F-statistic = {f_stat:.3f}, p-value = {p_value:.3f}\")\n",
        "\n",
        "# Interpretation: A low p-value (typically < 0.05) indicates a statistically significant difference"
      ],
      "metadata": {
        "colab": {
          "base_uri": "https://localhost:8080/"
        },
        "id": "D5PE0QudoI9E",
        "outputId": "62030096-422f-4127-e983-e3b3a54b50e8"
      },
      "execution_count": 19,
      "outputs": [
        {
          "output_type": "stream",
          "name": "stdout",
          "text": [
            "ANOVA results for raisedhands: F-statistic = 176.389, p-value = 0.000\n",
            "ANOVA results for VisITedResources: F-statistic = 230.473, p-value = 0.000\n",
            "ANOVA results for AnnouncementsView: F-statistic = 98.725, p-value = 0.000\n",
            "ANOVA results for Discussion: F-statistic = 25.253, p-value = 0.000\n"
          ]
        }
      ]
    },
    {
      "cell_type": "markdown",
      "source": [
        "### **Linear Regression and Correlation Analysis of LMS Engagement Metrics**\n",
        "\n",
        "This code performs a correlation test and a linear regression analysis to evaluate the relationship between LMS engagement metrics and academic performance (represented by the Class variable). Here's a breakdown of the process:\n",
        "\n",
        "1. **Label Encoding:** The Class column is checked for categorical data. If it is non-numeric, it is transformed into numerical values using LabelEncoder. This step is essential for performing statistical analysis and regression.\n",
        "\n",
        "2. **Correlation Testing:** For each LMS engagement feature (e.g., raisedhands, VisITedResources, AnnouncementsView, Discussion), the Pearson correlation coefficient is calculated with respect to the Class variable. This analysis helps to determine the strength and direction of the relationship between LMS usage and academic performance.\n",
        "\n",
        "3. **Regression Analysis:** The dataset is split into training and testing subsets to ensure the model is evaluated on unseen data. A 70-30 split is used for training and testing, respectively.A linear regression model is fitted using the training data, predicting the Class variable based on the selected LMS features.Predictions are made on the test set, and the model is evaluated using Mean Squared Error (MSE) and R-squared (R²) metrics. MSE indicates the average squared difference between predicted and actual values, while R² provides insight into the proportion of variance explained by the model.\n",
        "\n",
        "4. **Coefficients Display:** Finally, the coefficients of the regression model are printed, indicating the relationship between each LMS feature and the academic performance classification.\n",
        "\n",
        "This analysis allows for a deeper understanding of how various LMS engagement metrics correlate with and predict academic performance, which can inform educational strategies and interventions."
      ],
      "metadata": {
        "id": "9-6Ea5jTolUe"
      }
    },
    {
      "cell_type": "code",
      "source": [
        "# The BMJ. 2015. 11. Correlation and regression [Source Code].\n",
        "# https://www.bmj.com/about-bmj/resources-readers/publications/statistics-square-one/11-correlation-and-regression (4 November 2024)\n",
        "\n",
        "import pandas as pd\n",
        "from scipy import stats\n",
        "from sklearn.model_selection import train_test_split\n",
        "from sklearn.linear_model import LinearRegression\n",
        "from sklearn.metrics import mean_squared_error, r2_score\n",
        "from sklearn.preprocessing import LabelEncoder\n",
        "\n",
        "# Assuming 'data' is already loaded\n",
        "# Encode the 'Class' column if it's categorical\n",
        "if data['Class'].dtype == 'object':  # Check if 'Class' is non-numeric\n",
        "    le = LabelEncoder()\n",
        "    data['Class'] = le.fit_transform(data['Class'])\n",
        "\n",
        "# Define LMS feature columns\n",
        "lms_features = ['raisedhands', 'VisITedResources', 'AnnouncementsView', 'Discussion']\n",
        "\n",
        "# 4. Hypothesis Testing (correlation test)\n",
        "for feature in lms_features:\n",
        "    correlation, p_value = stats.pearsonr(data[feature], data['Class'])\n",
        "    print(f'Correlation between {feature} and Class: {correlation:.3f} (p-value: {p_value:.3f})')\n",
        "\n",
        "# 5. Regression analysis (Predicting Class from LMS usage)\n",
        "X = data[lms_features]\n",
        "y = data['Class']\n",
        "\n",
        "# Split data into training and test sets\n",
        "X_train, X_test, y_train, y_test = train_test_split(X, y, test_size=0.3, random_state=42)\n",
        "\n",
        "# Fit a linear regression model\n",
        "model = LinearRegression()\n",
        "model.fit(X_train, y_train)\n",
        "\n",
        "# Predict on the test set\n",
        "y_pred = model.predict(X_test)\n",
        "\n",
        "# Evaluate the model\n",
        "mse = mean_squared_error(y_test, y_pred)\n",
        "r2 = r2_score(y_test, y_pred)\n",
        "\n",
        "print(f\"Mean Squared Error: {mse:.3f}\")\n",
        "print(f\"R-squared: {r2:.3f}\")\n",
        "\n",
        "# Display the coefficients of the model\n",
        "coefficients = pd.DataFrame(model.coef_, X.columns, columns=['Coefficient'])\n",
        "print(\"Regression Coefficients:\\n\", coefficients)"
      ],
      "metadata": {
        "colab": {
          "base_uri": "https://localhost:8080/"
        },
        "id": "xLc0MHoc9yyV",
        "outputId": "79a38862-de11-4fa3-d95a-9369030b0920"
      },
      "execution_count": 14,
      "outputs": [
        {
          "output_type": "stream",
          "name": "stdout",
          "text": [
            "Correlation between raisedhands and Class: -0.231 (p-value: 0.000)\n",
            "Correlation between VisITedResources and Class: -0.162 (p-value: 0.000)\n",
            "Correlation between AnnouncementsView and Class: -0.144 (p-value: 0.002)\n",
            "Correlation between Discussion and Class: -0.122 (p-value: 0.007)\n",
            "Mean Squared Error: 0.632\n",
            "R-squared: -0.018\n",
            "Regression Coefficients:\n",
            "                    Coefficient\n",
            "raisedhands          -0.005121\n",
            "VisITedResources     -0.002156\n",
            "AnnouncementsView     0.001222\n",
            "Discussion           -0.002516\n"
          ]
        }
      ]
    },
    {
      "cell_type": "markdown",
      "source": [
        "## **References:**"
      ],
      "metadata": {
        "id": "VxcJHkKNdOqT"
      }
    },
    {
      "cell_type": "markdown",
      "source": [
        "Chhikara, K. 2021. Data Visualization using Matplotlib and Seaborn libraries., Medium, 11 June 2021. [Blog]. Available at: https://chhikarakunal96.medium.com/data-visualization-using-matplotlib-and-seaborn-libraries-74cf568d4f5f [Accessed 4 November 2024]\n",
        "\n",
        "Declan, V. Create plots and manipulate data with Pandas and Matplotlib, Our Coding Club. [Blog]. Available at: https://ourcodingclub.github.io/tutorials/pandas-python-intro/ [Accessed 4 November 2024]\n",
        "\n",
        "Debroy, S. 2023. Simple Linear Regression in Python, Medium, 29 March 2023. [Blog]. Available at: https://medium.com/@shuv.sdr/simple-linear-regression-in-python-a0069b325bf8 [Accessed 4 November 2024]\n",
        "\n",
        "FactorAnalyzer. Welcome to the FactorAnalyzer documentation!. [Online]. Available at: https://factor-analyzer.readthedocs.io/en/latest/ [Accessed 4 November 2024]\n",
        "\n",
        "GeeksforGeeks. 2023. How to convert categorical string data into numeric in Python?, 06 April 2023. [Online]. Available at: https://www.geeksforgeeks.org/how-to-convert-categorical-string-data-into-numeric-in-python/ [Accessed 4 November 2024]\n",
        "\n",
        "GeeksforGeeks. 2024. How to create a seaborn correlation heatmap in Python?, 5 September 2024. [Online]. Available at: https://www.geeksforgeeks.org/how-to-create-a-seaborn-correlation-heatmap-in-python/ [Accessed 4 November 2024]\n",
        "\n",
        "GeeksforGeeks. 2022. How to Perform a One-Way ANOVA in Python, 4 July 2022. [Online]. Available at: https://www.geeksforgeeks.org/how-to-perform-a-one-way-anova-in-python/ [Accessed 4 November 2024]\n",
        "\n",
        "Kent State University. SPSS Tutorials: Descriptive Stats for Many Numeric Variables (Descriptives). [Online]. Available at: https://libguides.library.kent.edu/SPSS/Descriptives [Accessed 4 November 2024]\n",
        "\n",
        "Sololearn. How to print the complete correlation matrix. [Online]. Available at: https://www.sololearn.com/en/Discuss/2440486/how-to-print-the-complete-correlation-matrix [Accessed 4 November 2024]"
      ],
      "metadata": {
        "id": "EAkbnO6cdTLq"
      }
    }
  ]
}